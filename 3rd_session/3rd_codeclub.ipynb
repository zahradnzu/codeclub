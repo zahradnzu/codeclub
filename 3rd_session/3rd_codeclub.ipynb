{
 "cells": [
  {
   "cell_type": "code",
   "execution_count": 36,
   "metadata": {},
   "outputs": [
    {
     "name": "stdout",
     "output_type": "stream",
     "text": [
      "bro proste zadej cislo jakoby\n",
      "bro proste zadej cislo jakoby\n",
      "bro proste zadej cislo jakoby\n",
      "bro proste zadej cislo jakoby\n",
      "bro proste zadej cislo jakoby\n",
      "bro proste zadej cislo jakoby\n",
      "bro proste zadej cislo jakoby\n",
      "25.0\n"
     ]
    }
   ],
   "source": [
    "# ukazka definice vlastni funkce s while True loopem chytajicim pripadny spatny input ustici ve ValueError\n",
    "\n",
    "def nadruhou() -> float:\n",
    "    while True:\n",
    "        try:\n",
    "            x = float(input(\"Kolik je x? \"))\n",
    "            return round(x*x, ndigits=2)\n",
    "        except ValueError:\n",
    "            print(\"bro proste zadej cislo jakoby\")\n",
    "            continue\n",
    "\n",
    "print(nadruhou())"
   ]
  }
 ],
 "metadata": {
  "kernelspec": {
   "display_name": "Python 3",
   "language": "python",
   "name": "python3"
  },
  "language_info": {
   "codemirror_mode": {
    "name": "ipython",
    "version": 3
   },
   "file_extension": ".py",
   "mimetype": "text/x-python",
   "name": "python",
   "nbconvert_exporter": "python",
   "pygments_lexer": "ipython3",
   "version": "3.10.11"
  },
  "orig_nbformat": 4
 },
 "nbformat": 4,
 "nbformat_minor": 2
}
