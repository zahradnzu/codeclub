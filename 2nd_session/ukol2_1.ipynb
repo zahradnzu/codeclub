{
 "cells": [
  {
   "attachments": {},
   "cell_type": "markdown",
   "metadata": {},
   "source": [
    "### ZADÁNÍ\n",
    "Dostal se vám do ruky seznam se jmény souborů s vizuální dokumentací chirurgických pacientů tento týden. Soubory jsou ale pojmenované s mezerami před názvy i uvnitř nich a navíc máte v seznamu dohromady jak obrázky, tak .pdf dokumenty. Vaším úkolem je:  \n",
    "1. tyto soubory **přejmenovat do podoby snake_case** (bez mezer před a za, mezery mezi slovy nahrazeny _ a malými písmeny)  \n",
    "2. takto přejmenované soubory **uložit do nového listu** (do předem vytvořeného, ale zatím prázdného *upraveny_list_souboru*)   \n",
    "3. z přejmenovaných souborů vyselektovat soubory obrázkové (končí .jpg, .jpeg a .png) a uložit je do proměnné *seznam_obrazku*.  \n",
    "4. do proměnné *posledni_obrazek* uložit poslední položku z listu *seznam_obrazku*.\n",
    "  \n",
    "Program by měl po spuštění vrátit seřazený seznam obrázků v následující podobě: **['diabeticka_noha.jpg', 'dekubit_1.jpeg', 'zlomenina.jpg', 'pooperacni_rana_1.jpg', 'dekubit_99.png']**. Na druhý řádek by měl vypsat následující: \"Poslednim obrazkem seznamu je dekubit_99.png.\"\n",
    "   \n",
    "Jako bonus si můžete zkusit seřadit výsledný seznam obrázků abecedně, výsledkem by potom mělo být: **['dekubit_1.jpeg', 'dekubit_99.png', 'diabeticka_noha.jpg', 'pooperacni_rana_1.jpg', 'zlomenina.jpg']**. Na druhý řádek by měl vypsat následující: \"Poslednim obrazkem seznamu je zlomenina.jpg.\""
   ]
  },
  {
   "cell_type": "code",
   "execution_count": 23,
   "metadata": {},
   "outputs": [],
   "source": [
    "# kod k uprave:\n",
    "\n",
    "list_souboru = [\"diabeticka Noha.jpg\", \"dekubit_1.jpeg\", \"pooperacni rana 2.pdf\", \"ZLOMENINA.JPg\", \"pooperacni rana 1.jpg \", \"dekuBit_2.pdf\", \" defekt DK.pdf\", \"dekubit 99.png\"]\n",
    "upraveny_list_souboru = []\n",
    "seznam_obrazku = []"
   ]
  },
  {
   "cell_type": "code",
   "execution_count": 24,
   "metadata": {},
   "outputs": [
    {
     "name": "stdout",
     "output_type": "stream",
     "text": [
      "SEZNAM OBRAZKU: ['dekubit_1.jpeg', 'dekubit_99.png', 'diabeticka_noha.jpg', 'pooperacni_rana_1.jpg', 'zlomenina.jpg'].\n",
      "Poslednim obrazkem seznamu je zlomenina.jpg.\n"
     ]
    }
   ],
   "source": [
    "# reseni DELSI ↓\n",
    "list_souboru = [\"diabeticka Noha.jpg\", \"dekubit_1.jpeg\", \"pooperacni rana 2.pdf\", \"ZLOMENINA.JPg\", \"pooperacni rana 1.jpg \", \"dekuBit_2.pdf\", \" defekt DK.pdf\", \"dekubit 99.png\"]\n",
    "upraveny_list_souboru = []\n",
    "seznam_obrazku = []\n",
    "\n",
    "# iterace pres puvodni seznam s upravem kazde polozky do snake_case\n",
    "for soubor in list_souboru:\n",
    "    upraveny_list_souboru.append(soubor.strip().replace(\" \", \"_\").lower())\n",
    "\n",
    "# iterace pres upraveny seznam a selekce vyhradne obrazkovych souboru (nekonci na \".pdf\")\n",
    "for file in upraveny_list_souboru:\n",
    "    if not file.endswith(\".pdf\"):\n",
    "        seznam_obrazku.append(file)\n",
    "\n",
    "# serazeni seznamu abecedne - pozor, .sort() vraci None\n",
    "seznam_obrazku.sort()\n",
    "\n",
    "print(f\"SEZNAM OBRAZKU: {seznam_obrazku}.\\nPoslednim obrazkem seznamu je {seznam_obrazku[-1]}.\")"
   ]
  },
  {
   "cell_type": "code",
   "execution_count": 25,
   "metadata": {},
   "outputs": [
    {
     "name": "stdout",
     "output_type": "stream",
     "text": [
      "SEZNAM OBRAZKU: ['dekubit_1.jpeg', 'dekubit_99.png', 'diabeticka_noha.jpg', 'pooperacni_rana_1.jpg', 'zlomenina.jpg'].\n",
      "Poslednim obrazkem seznamu je zlomenina.jpg.\n"
     ]
    }
   ],
   "source": [
    "# alternativni, vice pythonic reseni s *list comprehensions*\n",
    "\n",
    "list_souboru = [\"diabeticka Noha.jpg\", \"dekubit_1.jpeg\", \"pooperacni rana 2.pdf\", \"ZLOMENINA.JPg\", \"pooperacni rana 1.jpg \", \"dekuBit_2.pdf\", \" defekt DK.pdf\", \"dekubit 99.png\"]\n",
    "\n",
    "# uprava do snake_case do noveho listu a jeho serazeni\n",
    "upraveny_list_souboru = [x.strip().replace(\" \", \"_\").lower() for x in list_souboru]\n",
    "upraveny_list_souboru.sort()\n",
    "\n",
    "# iterace pres upraveny seznam a selekce obrazkovych souboru (zde definovano jako tuple)\n",
    "seznam_obrazku = [x for x in upraveny_list_souboru if x.endswith((\"jpg\", \"jpeg\", \"png\"))]\n",
    "\n",
    "\n",
    "print(f\"SEZNAM OBRAZKU: {seznam_obrazku}.\\nPoslednim obrazkem seznamu je {seznam_obrazku[-1]}.\")"
   ]
  },
  {
   "attachments": {},
   "cell_type": "markdown",
   "metadata": {},
   "source": [
    "**LEHKÁ NÁPOVĚDA**  \n",
    "- Stejně jako pro stringy, i pro listy existuje řada metod, které usnadní práci s nimi: https://docs.python.org/3/tutorial/datastructures.html#more-on-lists - pozor, různé metody mohou vracet různé datové typy!  \n",
    "- Indexování v Pythonu začíná od 0, na poslední znak ve stringu/položku v listu/řádek v tabulce lze referovat i odzadu za použití znaménka minus (viz soubor \"2nd_codeclub.ipynb\").  \n",
    "- v případě záseku na mělčině se nebojte extenzivně googlit, ptát chatGPT nebo kohokoliv ve vašem radiu:>"
   ]
  }
 ],
 "metadata": {
  "kernelspec": {
   "display_name": "Python 3",
   "language": "python",
   "name": "python3"
  },
  "language_info": {
   "codemirror_mode": {
    "name": "ipython",
    "version": 3
   },
   "file_extension": ".py",
   "mimetype": "text/x-python",
   "name": "python",
   "nbconvert_exporter": "python",
   "pygments_lexer": "ipython3",
   "version": "3.10.11"
  },
  "orig_nbformat": 4
 },
 "nbformat": 4,
 "nbformat_minor": 2
}
