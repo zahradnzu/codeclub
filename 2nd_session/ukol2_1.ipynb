{
 "cells": [
  {
   "attachments": {},
   "cell_type": "markdown",
   "metadata": {},
   "source": [
    "### ZADÁNÍ\n",
    "Dostal se vám do ruky seznam se jmény souborů s vizuální dokumentací chirurgických pacientů tento týden. Soubory jsou ale pojmenované s mezerami před názvy i uvnitř nich a navíc máte v seznamu dohromady jak obrázky, tak .pdf dokumenty. Vaším úkolem je:  \n",
    "1. tyto soubory **přejmenovat do podoby snake_case** (bez mezer před a za, mezery mezi slovy nahrazeny _ a malými písmeny)  \n",
    "2. takto přejmenované soubory **uložit do nového listu** (do předem vytvořeného, ale zatím prázdného *upraveny_list_souboru*)   \n",
    "3. z přejmenovaných souborů vyselektovat soubory obrázkové (končí .jpg, .jpeg a .png) a uložit je do proměnné *seznam_obrazku*.  \n",
    "4. do proměnné *posledni_obrazek* uložit poslední položku z listu *seznam_obrazku*.\n",
    "  \n",
    "Program by měl po spuštění vrátit seřazený seznam obrázků v následující podobě: **['diabeticka_noha.jpg', 'dekubit_1.jpeg', 'zlomenina.jpg', 'pooperacni_rana_1.jpg', 'dekubit_99.png']**. Na druhý řádek by měl vypsat následující: \"Poslednim obrazkem seznamu je dekubit_99.png.\"\n",
    "   \n",
    "Jako bonus si můžete zkusit seřadit výsledný seznam obrázků abecedně, výsledkem by potom mělo být: **['dekubit_1.jpeg', 'dekubit_99.png', 'diabeticka_noha.jpg', 'pooperacni_rana_1.jpg', 'zlomenina.jpg']**. Na druhý řádek by měl vypsat následující: \"Poslednim obrazkem seznamu je zlomenina.jpg.\""
   ]
  },
  {
   "cell_type": "code",
   "execution_count": 23,
   "metadata": {},
   "outputs": [],
   "source": [
    "# kod k uprave:\n",
    "\n",
    "list_souboru = [\"diabeticka Noha.jpg\", \"dekubit_1.jpeg\", \"pooperacni rana 2.pdf\", \"ZLOMENINA.JPg\", \"pooperacni rana 1.jpg \", \"dekuBit_2.pdf\", \" defekt DK.pdf\", \"dekubit 99.png\"]\n",
    "upraveny_list_souboru = []\n",
    "seznam_obrazku = []"
   ]
  },
  {
   "attachments": {},
   "cell_type": "markdown",
   "metadata": {},
   "source": [
    "**LEHKÁ NÁPOVĚDA**  \n",
    "- Stejně jako pro stringy, i pro listy existuje řada metod, které usnadní práci s nimi: https://docs.python.org/3/tutorial/datastructures.html#more-on-lists - pozor, různé metody mohou vracet různé datové typy!  \n",
    "- Indexování v Pythonu začíná od 0, na poslední znak ve stringu/položku v listu/řádek v tabulce lze referovat i odzadu za použití znaménka minus (viz soubor \"2nd_codeclub.ipynb\").  \n",
    "- v případě záseku na mělčině se nebojte extenzivně googlit, ptát chatGPT nebo kohokoliv ve vašem radiu:>"
   ]
  }
 ],
 "metadata": {
  "kernelspec": {
   "display_name": "Python 3",
   "language": "python",
   "name": "python3"
  },
  "language_info": {
   "codemirror_mode": {
    "name": "ipython",
    "version": 3
   },
   "file_extension": ".py",
   "mimetype": "text/x-python",
   "name": "python",
   "nbconvert_exporter": "python",
   "pygments_lexer": "ipython3",
   "version": "3.10.11"
  },
  "orig_nbformat": 4
 },
 "nbformat": 4,
 "nbformat_minor": 2
}
