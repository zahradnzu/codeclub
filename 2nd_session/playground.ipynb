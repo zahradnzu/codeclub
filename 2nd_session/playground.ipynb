{
 "cells": [
  {
   "cell_type": "code",
   "execution_count": 1,
   "metadata": {},
   "outputs": [],
   "source": [
    "import pandas as pd\n",
    "import numpy as np"
   ]
  },
  {
   "cell_type": "code",
   "execution_count": 27,
   "metadata": {},
   "outputs": [
    {
     "name": "stdout",
     "output_type": "stream",
     "text": [
      "to je zas moc\n"
     ]
    }
   ],
   "source": [
    "Hb = float(input(\"Jaká je hodnota hemoglobinu v g/l? \"))\n",
    "sex = input(\"Jaké je pohlaví pacienta? M/F \").lower()\n",
    "\n",
    "if Hb < 120 and sex == \"f\" or Hb < 135 and sex == \"m\":\n",
    "    print(\"A-JÉJE-NÉMIE :(\")\n",
    "elif Hb > 160 and sex == \"f\" or Hb > 170 and sex == \"m\":\n",
    "    print(\"to je zas moc\")\n",
    "else:\n",
    "    print(\"v normě:)\")"
   ]
  },
  {
   "cell_type": "code",
   "execution_count": null,
   "metadata": {},
   "outputs": [],
   "source": [
    "# for loopy - nejakej dobrej priklad, iterace pres data"
   ]
  }
 ],
 "metadata": {
  "kernelspec": {
   "display_name": "Python 3",
   "language": "python",
   "name": "python3"
  },
  "language_info": {
   "codemirror_mode": {
    "name": "ipython",
    "version": 3
   },
   "file_extension": ".py",
   "mimetype": "text/x-python",
   "name": "python",
   "nbconvert_exporter": "python",
   "pygments_lexer": "ipython3",
   "version": "3.10.9"
  },
  "orig_nbformat": 4
 },
 "nbformat": 4,
 "nbformat_minor": 2
}
