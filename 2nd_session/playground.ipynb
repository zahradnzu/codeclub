{
 "cells": [
  {
   "attachments": {},
   "cell_type": "markdown",
   "metadata": {},
   "source": [
    "## CODECLUB vol. 2\n",
    "<b>Ahoj!</b> Na druhým setkání jsme si trošku rozšířili obecné znalosti a ukázali koncept podmínek, for cyklů, komparativních a logických operátorů a něco málo ke knihovnám a iteraci přes data. V tomto notebooku najdete kód, který si můžete stáhnout jako celý soubour a překopírovávat/pouštět si jednotlivé chunky."
   ]
  },
  {
   "attachments": {},
   "cell_type": "markdown",
   "metadata": {},
   "source": [
    "<b>↓ PRIRAZENI DO DVOU PROMENNYCH SOUCASNE ↓</b>  \n",
    "Volame funkci input, ktera vraci 1 string (jmeno a prijmeni) vlozene uzivatelem. na tento string se postupne hiearchicky volaji **metody**:  \n",
    "1. **.strip()** vrati vlozeny string bez prebytecnych mezer pred i za pismenky v nem\n",
    "2. **.title()** vezme vsechna slova ve stringu a vrati string s \"Velkym Pismenem Na Zacatku\"\n",
    "3. **.split(sep=\" \")** bere jiz od mezer osekany string s velkymi pocatecnimi pismeny (to pro nej udelaly metody zavolane pred nim) a *rozseka* ho na tolik casti, kolikrat najde nami specifikovany separator - specifikujeme parametr *sep=* a jako argument mu davame \" \" (mezeru), protoze chceme nas string rozstrelit na casti podle mezer. Tato metoda nevraci string, ale list rozsekanych stringu - nicmene pokud bude nami vkladany string po rozdeleni list o *n* castech a my prirazujeme do *n* promennych, pak se to rozstreli do nich a muzeme s nimi dale pracovat."
   ]
  },
  {
   "cell_type": "code",
   "execution_count": 7,
   "metadata": {},
   "outputs": [
    {
     "name": "stdout",
     "output_type": "stream",
     "text": [
      "krestni jmeno: Jan\n",
      "prijmeni: Novak\n"
     ]
    }
   ],
   "source": [
    "jmeno, prijmeni = input(\"Uveďte své jméno a příjmení: \").strip().title().split(sep=\" \")\n",
    "print(f\"krestni jmeno: {jmeno}\\nprijmeni: {prijmeni}\")\n",
    "\n",
    "#zde jsem navic pouzila \\n, coz je znak pro enter - print nasledne nevypise doslova \"\\n\", ale udela dalsi radek."
   ]
  },
  {
   "attachments": {},
   "cell_type": "markdown",
   "metadata": {},
   "source": [
    "<b>INDEXOVANI</b>  \n",
    "Indexovani je zpusob, jakym referovat na jednotlive polozky v ramci nejakeho (*iterovatelneho* - o tom vice nize) objektu - kazda polozka v ramci takoveho objektu ma nejake unikatni, poradove cislo, pomoci ktereho na ni muzeme referovat. Ukazkovym prikladem je list (viz nize).  \n",
    "Zasadni:  \n",
    "- Pythonu se **indexuje od 0** (prvni polozka v listu ma index 0, v tabulce prvni radek 0 a prvni sloupec 0, ve stringu prvni znak,...)\n",
    "- lze *sahnout* po polozkach odzadu pomoci znamenka - (posledni polozka je dosazitelna mimojine taky pomoci indexu -1)\n",
    "- **POZOR** - pokud specifikujeme rozsah, napr. chceme sahnout po prvnich n hodnotach v listu - syntax je list[0:n] - prvni polozka ma index 0, druha 1, treti 2 a ctvrta s indexem 3 uz tam zahrnuta neni. prvni z indexu v nami specifikovanem rozsahu je INCLUDED, ale ten posledni uz ne (! rozdil proti R, navic napr. knihovna pandas pro python nekde taky bere included:included)"
   ]
  },
  {
   "cell_type": "code",
   "execution_count": 3,
   "metadata": {},
   "outputs": [
    {
     "name": "stdout",
     "output_type": "stream",
     "text": [
      "B\n",
      "Jarmila\n",
      "['Anna', 'Karel', 'Vratislav']\n"
     ]
    }
   ],
   "source": [
    "abeceda = \"ABCDEFGH\"\n",
    "print(abeceda[1]) # string je sekvence znaku a kazdy znak v ramci nej ma svuj index - lze \"zavolat\" pomoci hranatych zavorek []\n",
    "\n",
    "seznam_pacientu = [\"Anna\", \"Karel\", \"Vojtěch\", \"Jakub\", \"Jarmila\"]\n",
    "print(seznam_pacientu[-1]) # volani posledni polozky v seznamu\n",
    "print(seznam_pacientu[0:3]) # volani polozek s indexem 0 az 2 (3 uz neni zahrnuto)"
   ]
  },
  {
   "attachments": {},
   "cell_type": "markdown",
   "metadata": {},
   "source": [
    "<b>UVOD DO PODMINEK</b>  \n",
    "Podmínky jsou způsob, jakým ve skriptu ošetřit, že při splnění určitého výrazu (tj. výraz nabyde hodnoty True) → \"if\" = \"POKUD\" - se vykoná určitá akce.\n",
    "- podminky za sebou muzeme retezit"
   ]
  },
  {
   "cell_type": "code",
   "execution_count": null,
   "metadata": {},
   "outputs": [],
   "source": [
    "\"\"\" Jednoducha podminka determinujici \"\"\"\n",
    "Hb = float(input(\"Jaká je hodnota hemoglobinu v g/l? \"))\n",
    "\n",
    "if Hb < 120:\n",
    "    print(\"Anémie:(\")\n",
    "else:\n",
    "    print(\"V normě\")"
   ]
  },
  {
   "cell_type": "code",
   "execution_count": 39,
   "metadata": {},
   "outputs": [
    {
     "name": "stdout",
     "output_type": "stream",
     "text": [
      "v normě:)\n"
     ]
    }
   ],
   "source": [
    "Hb = float(input(\"Jaká je hodnota hemoglobinu v g/l? \"))\n",
    "sex = input(\"Jaké je pohlaví pacienta? M/F \").lower()\n",
    "\n",
    "if Hb < 120 and sex == \"f\" or Hb < 135 and sex == \"m\":\n",
    "    print(\"anémie :(\")\n",
    "elif Hb > 160 and sex == \"f\" or Hb > 170 and sex == \"m\":\n",
    "    print(\"to je zas moc\")\n",
    "else:\n",
    "    print(\"v normě:)\")"
   ]
  },
  {
   "cell_type": "code",
   "execution_count": null,
   "metadata": {},
   "outputs": [],
   "source": [
    "import pandas as pd\n",
    "import numpy as np"
   ]
  },
  {
   "cell_type": "code",
   "execution_count": 40,
   "metadata": {},
   "outputs": [
    {
     "data": {
      "text/html": [
       "<div>\n",
       "<style scoped>\n",
       "    .dataframe tbody tr th:only-of-type {\n",
       "        vertical-align: middle;\n",
       "    }\n",
       "\n",
       "    .dataframe tbody tr th {\n",
       "        vertical-align: top;\n",
       "    }\n",
       "\n",
       "    .dataframe thead th {\n",
       "        text-align: right;\n",
       "    }\n",
       "</style>\n",
       "<table border=\"1\" class=\"dataframe\">\n",
       "  <thead>\n",
       "    <tr style=\"text-align: right;\">\n",
       "      <th></th>\n",
       "      <th>date</th>\n",
       "      <th>ward</th>\n",
       "      <th>patient</th>\n",
       "      <th>sex</th>\n",
       "      <th>age</th>\n",
       "      <th>microbe</th>\n",
       "      <th>crp</th>\n",
       "      <th>temp</th>\n",
       "      <th>btype</th>\n",
       "      <th>hb</th>\n",
       "    </tr>\n",
       "  </thead>\n",
       "  <tbody>\n",
       "    <tr>\n",
       "      <th>0</th>\n",
       "      <td>2023-03-12</td>\n",
       "      <td>JIP_A</td>\n",
       "      <td>Petra Nová</td>\n",
       "      <td>f</td>\n",
       "      <td>31</td>\n",
       "      <td>Staphylococcus aureus</td>\n",
       "      <td>120</td>\n",
       "      <td>38.5</td>\n",
       "      <td>A+</td>\n",
       "      <td>119</td>\n",
       "    </tr>\n",
       "    <tr>\n",
       "      <th>1</th>\n",
       "      <td>2023-03-12</td>\n",
       "      <td>JIP_A</td>\n",
       "      <td>Jana Modrá</td>\n",
       "      <td>f</td>\n",
       "      <td>81</td>\n",
       "      <td>Staphylococcus epidermidis</td>\n",
       "      <td>30</td>\n",
       "      <td>37.3</td>\n",
       "      <td>A-</td>\n",
       "      <td>120</td>\n",
       "    </tr>\n",
       "    <tr>\n",
       "      <th>2</th>\n",
       "      <td>2023-03-13</td>\n",
       "      <td>JIP_A</td>\n",
       "      <td>Jana Modrá</td>\n",
       "      <td>f</td>\n",
       "      <td>81</td>\n",
       "      <td>Staphylococcus epidermidis</td>\n",
       "      <td>36</td>\n",
       "      <td>37.2</td>\n",
       "      <td>0</td>\n",
       "      <td>120</td>\n",
       "    </tr>\n",
       "    <tr>\n",
       "      <th>3</th>\n",
       "      <td>2023-03-13</td>\n",
       "      <td>JIP_A</td>\n",
       "      <td>Jan Bezucký</td>\n",
       "      <td>m</td>\n",
       "      <td>7</td>\n",
       "      <td>Haemophilus influenzae</td>\n",
       "      <td>70</td>\n",
       "      <td>38.6</td>\n",
       "      <td>B+</td>\n",
       "      <td>142</td>\n",
       "    </tr>\n",
       "    <tr>\n",
       "      <th>4</th>\n",
       "      <td>2023-03-13</td>\n",
       "      <td>CHIR_B</td>\n",
       "      <td>Marie Vomáčková</td>\n",
       "      <td>f</td>\n",
       "      <td>47</td>\n",
       "      <td>Staphylococcus epidermidis</td>\n",
       "      <td>46</td>\n",
       "      <td>36.9</td>\n",
       "      <td>0</td>\n",
       "      <td>89</td>\n",
       "    </tr>\n",
       "  </tbody>\n",
       "</table>\n",
       "</div>"
      ],
      "text/plain": [
       "        date    ward          patient sex  age                     microbe  \\\n",
       "0 2023-03-12   JIP_A       Petra Nová   f   31       Staphylococcus aureus   \n",
       "1 2023-03-12   JIP_A       Jana Modrá   f   81  Staphylococcus epidermidis   \n",
       "2 2023-03-13   JIP_A       Jana Modrá   f   81  Staphylococcus epidermidis   \n",
       "3 2023-03-13   JIP_A      Jan Bezucký   m    7      Haemophilus influenzae   \n",
       "4 2023-03-13  CHIR_B  Marie Vomáčková   f   47  Staphylococcus epidermidis   \n",
       "\n",
       "   crp  temp btype   hb  \n",
       "0  120  38.5    A+  119  \n",
       "1   30  37.3    A-  120  \n",
       "2   36  37.2     0  120  \n",
       "3   70  38.6    B+  142  \n",
       "4   46  36.9     0   89  "
      ]
     },
     "execution_count": 40,
     "metadata": {},
     "output_type": "execute_result"
    }
   ],
   "source": [
    "df = pd.read_excel(\"C:/Users/zahra/Desktop/python_import/cc_data.xlsx\")\n",
    "df.head()"
   ]
  },
  {
   "cell_type": "code",
   "execution_count": 41,
   "metadata": {},
   "outputs": [
    {
     "data": {
      "text/plain": [
       "'S'"
      ]
     },
     "execution_count": 41,
     "metadata": {},
     "output_type": "execute_result"
    }
   ],
   "source": [
    "jmeno, prijmeni = input(\"Vlozte sve cele jmeno: \").strip().title().split(sep=\" \")\n",
    "jmeno"
   ]
  },
  {
   "cell_type": "code",
   "execution_count": 66,
   "metadata": {},
   "outputs": [
    {
     "name": "stdout",
     "output_type": "stream",
     "text": [
      "Pacient Anna leží na JIP_A\n",
      "A\n",
      "n\n",
      "n\n",
      "a\n",
      "Pacient Karel leží na JIP_A\n",
      "K\n",
      "a\n",
      "r\n",
      "e\n",
      "l\n",
      "Pacient Vratislav leží na JIP_A\n",
      "V\n",
      "r\n",
      "a\n",
      "t\n",
      "i\n",
      "s\n",
      "l\n",
      "a\n",
      "v\n",
      "Pacient Jakub leží na JIP_A\n",
      "J\n",
      "a\n",
      "k\n",
      "u\n",
      "b\n",
      "Pacient Jarmila leží na JIP_A\n",
      "J\n",
      "a\n",
      "r\n",
      "m\n",
      "i\n",
      "l\n",
      "a\n"
     ]
    }
   ],
   "source": [
    "seznam_pacientu = [\"Anna\", \"Karel\", \"Vojtěch\", \"Jakub\", \"Jarmila\"]\n",
    "jmeno_oddeleni = \"JIP_A\"\n",
    "\n",
    "for pacient in seznam_pacientu:\n",
    "    print(f\"Pacient {pacient} leží na {jmeno_oddeleni}\")\n",
    "    for i in pacient:\n",
    "        print(i)"
   ]
  },
  {
   "cell_type": "code",
   "execution_count": 73,
   "metadata": {},
   "outputs": [
    {
     "data": {
      "text/plain": [
       "112.0"
      ]
     },
     "execution_count": 73,
     "metadata": {},
     "output_type": "execute_result"
    }
   ],
   "source": [
    "# for lab, row in df.iterrows():\n",
    "#     if row[\"sex\"] == \"f\" and row[\"hb\"] < 120:\n",
    "#         print(f\"Paní {row['patient']} má anémii.\")\n",
    "#     elif row[\"sex\"] == \"m\" and row[\"hb\"] < 135:\n",
    "#         print(f\"Pan {row['patient']} má anémii.\")\n",
    "#     else:\n",
    "#         print(f\"{row['patient']} je vpoho\")\n",
    "\n",
    "df.query(\"temp > 38 & hb < 150\").hb.mean()"
   ]
  },
  {
   "cell_type": "code",
   "execution_count": 50,
   "metadata": {},
   "outputs": [
    {
     "data": {
      "text/html": [
       "<div>\n",
       "<style scoped>\n",
       "    .dataframe tbody tr th:only-of-type {\n",
       "        vertical-align: middle;\n",
       "    }\n",
       "\n",
       "    .dataframe tbody tr th {\n",
       "        vertical-align: top;\n",
       "    }\n",
       "\n",
       "    .dataframe thead th {\n",
       "        text-align: right;\n",
       "    }\n",
       "</style>\n",
       "<table border=\"1\" class=\"dataframe\">\n",
       "  <thead>\n",
       "    <tr style=\"text-align: right;\">\n",
       "      <th></th>\n",
       "      <th>date</th>\n",
       "      <th>ward</th>\n",
       "      <th>patient</th>\n",
       "      <th>sex</th>\n",
       "      <th>age</th>\n",
       "      <th>microbe</th>\n",
       "      <th>crp</th>\n",
       "      <th>temp</th>\n",
       "      <th>btype</th>\n",
       "      <th>hb</th>\n",
       "      <th>anemic</th>\n",
       "    </tr>\n",
       "  </thead>\n",
       "  <tbody>\n",
       "    <tr>\n",
       "      <th>0</th>\n",
       "      <td>2023-03-12</td>\n",
       "      <td>JIP_A</td>\n",
       "      <td>Petra Nová</td>\n",
       "      <td>f</td>\n",
       "      <td>31</td>\n",
       "      <td>Staphylococcus aureus</td>\n",
       "      <td>120</td>\n",
       "      <td>38.5</td>\n",
       "      <td>A+</td>\n",
       "      <td>119</td>\n",
       "      <td>NaN</td>\n",
       "    </tr>\n",
       "    <tr>\n",
       "      <th>4</th>\n",
       "      <td>2023-03-13</td>\n",
       "      <td>CHIR_B</td>\n",
       "      <td>Marie Vomáčková</td>\n",
       "      <td>f</td>\n",
       "      <td>47</td>\n",
       "      <td>Staphylococcus epidermidis</td>\n",
       "      <td>46</td>\n",
       "      <td>36.9</td>\n",
       "      <td>0</td>\n",
       "      <td>89</td>\n",
       "      <td>NaN</td>\n",
       "    </tr>\n",
       "    <tr>\n",
       "      <th>5</th>\n",
       "      <td>2023-03-13</td>\n",
       "      <td>CHIR_B</td>\n",
       "      <td>Klára Doskočilová</td>\n",
       "      <td>f</td>\n",
       "      <td>18</td>\n",
       "      <td>Neisseria meningitidis</td>\n",
       "      <td>88</td>\n",
       "      <td>39.5</td>\n",
       "      <td>A+</td>\n",
       "      <td>109</td>\n",
       "      <td>NaN</td>\n",
       "    </tr>\n",
       "    <tr>\n",
       "      <th>7</th>\n",
       "      <td>2023-03-14</td>\n",
       "      <td>JIP_A</td>\n",
       "      <td>Miroslav Kovář</td>\n",
       "      <td>m</td>\n",
       "      <td>81</td>\n",
       "      <td>Streptococcus pneumoniae</td>\n",
       "      <td>132</td>\n",
       "      <td>37.3</td>\n",
       "      <td>B-</td>\n",
       "      <td>105</td>\n",
       "      <td>NaN</td>\n",
       "    </tr>\n",
       "    <tr>\n",
       "      <th>8</th>\n",
       "      <td>2023-03-17</td>\n",
       "      <td>CHIR_B</td>\n",
       "      <td>Jaroslav Šťastný</td>\n",
       "      <td>m</td>\n",
       "      <td>75</td>\n",
       "      <td>Staphylococcus epidermidis</td>\n",
       "      <td>78</td>\n",
       "      <td>38.4</td>\n",
       "      <td>A+</td>\n",
       "      <td>131</td>\n",
       "      <td>NaN</td>\n",
       "    </tr>\n",
       "    <tr>\n",
       "      <th>10</th>\n",
       "      <td>2023-03-18</td>\n",
       "      <td>JIP_A</td>\n",
       "      <td>Markéta Potočná</td>\n",
       "      <td>f</td>\n",
       "      <td>64</td>\n",
       "      <td>Streptococcus pneumoniae</td>\n",
       "      <td>240</td>\n",
       "      <td>39.4</td>\n",
       "      <td>0</td>\n",
       "      <td>109</td>\n",
       "      <td>NaN</td>\n",
       "    </tr>\n",
       "    <tr>\n",
       "      <th>11</th>\n",
       "      <td>2023-03-18</td>\n",
       "      <td>JIP_A</td>\n",
       "      <td>Marcela Zelená</td>\n",
       "      <td>f</td>\n",
       "      <td>32</td>\n",
       "      <td>Pseudomonas aeruginosa</td>\n",
       "      <td>133</td>\n",
       "      <td>37.4</td>\n",
       "      <td>0</td>\n",
       "      <td>75</td>\n",
       "      <td>NaN</td>\n",
       "    </tr>\n",
       "    <tr>\n",
       "      <th>14</th>\n",
       "      <td>2023-03-19</td>\n",
       "      <td>JIP_A</td>\n",
       "      <td>Simona Modráková</td>\n",
       "      <td>f</td>\n",
       "      <td>47</td>\n",
       "      <td>Pseudomonas aeruginosa</td>\n",
       "      <td>149</td>\n",
       "      <td>38.4</td>\n",
       "      <td>A-</td>\n",
       "      <td>62</td>\n",
       "      <td>NaN</td>\n",
       "    </tr>\n",
       "  </tbody>\n",
       "</table>\n",
       "</div>"
      ],
      "text/plain": [
       "         date    ward            patient sex  age                     microbe  \\\n",
       "0  2023-03-12   JIP_A         Petra Nová   f   31       Staphylococcus aureus   \n",
       "4  2023-03-13  CHIR_B    Marie Vomáčková   f   47  Staphylococcus epidermidis   \n",
       "5  2023-03-13  CHIR_B  Klára Doskočilová   f   18      Neisseria meningitidis   \n",
       "7  2023-03-14   JIP_A     Miroslav Kovář   m   81    Streptococcus pneumoniae   \n",
       "8  2023-03-17  CHIR_B   Jaroslav Šťastný   m   75  Staphylococcus epidermidis   \n",
       "10 2023-03-18   JIP_A    Markéta Potočná   f   64    Streptococcus pneumoniae   \n",
       "11 2023-03-18   JIP_A     Marcela Zelená   f   32      Pseudomonas aeruginosa   \n",
       "14 2023-03-19   JIP_A   Simona Modráková   f   47      Pseudomonas aeruginosa   \n",
       "\n",
       "    crp  temp btype   hb  anemic  \n",
       "0   120  38.5    A+  119     NaN  \n",
       "4    46  36.9     0   89     NaN  \n",
       "5    88  39.5    A+  109     NaN  \n",
       "7   132  37.3    B-  105     NaN  \n",
       "8    78  38.4    A+  131     NaN  \n",
       "10  240  39.4     0  109     NaN  \n",
       "11  133  37.4     0   75     NaN  \n",
       "14  149  38.4    A-   62     NaN  "
      ]
     },
     "execution_count": 50,
     "metadata": {},
     "output_type": "execute_result"
    }
   ],
   "source": [
    "df.query(\"sex == 'f' & hb < 120 | sex == 'm' & hb < 135\")"
   ]
  },
  {
   "cell_type": "code",
   "execution_count": null,
   "metadata": {},
   "outputs": [],
   "source": [
    "# with pd.ExcelWriter(\"output.xlsx\") as writer:\n",
    "#     df.query(\"\")"
   ]
  }
 ],
 "metadata": {
  "kernelspec": {
   "display_name": "Python 3",
   "language": "python",
   "name": "python3"
  },
  "language_info": {
   "codemirror_mode": {
    "name": "ipython",
    "version": 3
   },
   "file_extension": ".py",
   "mimetype": "text/x-python",
   "name": "python",
   "nbconvert_exporter": "python",
   "pygments_lexer": "ipython3",
   "version": "3.10.9"
  },
  "orig_nbformat": 4
 },
 "nbformat": 4,
 "nbformat_minor": 2
}
