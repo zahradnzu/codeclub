{
 "cells": [
  {
   "cell_type": "code",
   "execution_count": 65,
   "metadata": {},
   "outputs": [],
   "source": [
    "import pandas as pd\n",
    "import numpy as np"
   ]
  },
  {
   "cell_type": "code",
   "execution_count": 66,
   "metadata": {},
   "outputs": [
    {
     "name": "stdout",
     "output_type": "stream",
     "text": [
      "A-JÉJE-NÉMIE :(\n"
     ]
    }
   ],
   "source": [
    "Hb = float(input(\"Jaká je hodnota hemoglobinu v g/l? \"))\n",
    "sex = input(\"Jaké je pohlaví pacienta? M/F \").lower()\n",
    "\n",
    "if Hb < 120 and sex == \"f\" or Hb < 135 and sex == \"m\":\n",
    "    print(\"A-JÉJE-NÉMIE :(\")\n",
    "elif Hb > 160 and sex == \"f\" or Hb > 170 and sex == \"m\":\n",
    "    print(\"to je zas moc\")\n",
    "else:\n",
    "    print(\"v normě:)\")"
   ]
  },
  {
   "cell_type": "code",
   "execution_count": 67,
   "metadata": {},
   "outputs": [
    {
     "data": {
      "text/html": [
       "<div>\n",
       "<style scoped>\n",
       "    .dataframe tbody tr th:only-of-type {\n",
       "        vertical-align: middle;\n",
       "    }\n",
       "\n",
       "    .dataframe tbody tr th {\n",
       "        vertical-align: top;\n",
       "    }\n",
       "\n",
       "    .dataframe thead th {\n",
       "        text-align: right;\n",
       "    }\n",
       "</style>\n",
       "<table border=\"1\" class=\"dataframe\">\n",
       "  <thead>\n",
       "    <tr style=\"text-align: right;\">\n",
       "      <th></th>\n",
       "      <th>date</th>\n",
       "      <th>patient</th>\n",
       "      <th>sex</th>\n",
       "      <th>age</th>\n",
       "      <th>microbe</th>\n",
       "      <th>crp</th>\n",
       "      <th>temp</th>\n",
       "      <th>btype</th>\n",
       "      <th>Hb</th>\n",
       "    </tr>\n",
       "  </thead>\n",
       "  <tbody>\n",
       "    <tr>\n",
       "      <th>0</th>\n",
       "      <td>2023-03-12</td>\n",
       "      <td>Petra Nová</td>\n",
       "      <td>f</td>\n",
       "      <td>31</td>\n",
       "      <td>Staphylococcus aureus</td>\n",
       "      <td>120</td>\n",
       "      <td>38.5</td>\n",
       "      <td>A+</td>\n",
       "      <td>119</td>\n",
       "    </tr>\n",
       "    <tr>\n",
       "      <th>1</th>\n",
       "      <td>2023-03-12</td>\n",
       "      <td>Jana Modrá</td>\n",
       "      <td>f</td>\n",
       "      <td>81</td>\n",
       "      <td>Staphylococcus epidermidis</td>\n",
       "      <td>30</td>\n",
       "      <td>37.3</td>\n",
       "      <td>A-</td>\n",
       "      <td>120</td>\n",
       "    </tr>\n",
       "    <tr>\n",
       "      <th>2</th>\n",
       "      <td>2023-03-13</td>\n",
       "      <td>Jana Modrá</td>\n",
       "      <td>f</td>\n",
       "      <td>81</td>\n",
       "      <td>Staphylococcus epidermidis</td>\n",
       "      <td>36</td>\n",
       "      <td>37.2</td>\n",
       "      <td>0</td>\n",
       "      <td>145</td>\n",
       "    </tr>\n",
       "    <tr>\n",
       "      <th>3</th>\n",
       "      <td>2023-03-13</td>\n",
       "      <td>Jan Bezucký</td>\n",
       "      <td>m</td>\n",
       "      <td>7</td>\n",
       "      <td>Haemophilus influenzae</td>\n",
       "      <td>70</td>\n",
       "      <td>38.6</td>\n",
       "      <td>B+</td>\n",
       "      <td>142</td>\n",
       "    </tr>\n",
       "    <tr>\n",
       "      <th>4</th>\n",
       "      <td>2023-03-13</td>\n",
       "      <td>Marie Vomáčková</td>\n",
       "      <td>f</td>\n",
       "      <td>47</td>\n",
       "      <td>Staphylococcus epidermidis</td>\n",
       "      <td>46</td>\n",
       "      <td>36.9</td>\n",
       "      <td>0</td>\n",
       "      <td>89</td>\n",
       "    </tr>\n",
       "  </tbody>\n",
       "</table>\n",
       "</div>"
      ],
      "text/plain": [
       "        date          patient sex  age                     microbe  crp  temp  \\\n",
       "0 2023-03-12       Petra Nová   f   31       Staphylococcus aureus  120  38.5   \n",
       "1 2023-03-12       Jana Modrá   f   81  Staphylococcus epidermidis   30  37.3   \n",
       "2 2023-03-13       Jana Modrá   f   81  Staphylococcus epidermidis   36  37.2   \n",
       "3 2023-03-13      Jan Bezucký   m    7      Haemophilus influenzae   70  38.6   \n",
       "4 2023-03-13  Marie Vomáčková   f   47  Staphylococcus epidermidis   46  36.9   \n",
       "\n",
       "  btype   Hb  \n",
       "0    A+  119  \n",
       "1    A-  120  \n",
       "2     0  145  \n",
       "3    B+  142  \n",
       "4     0   89  "
      ]
     },
     "execution_count": 67,
     "metadata": {},
     "output_type": "execute_result"
    }
   ],
   "source": [
    "df = pd.read_excel(\"C:/Users/zahra/Desktop/python_import/cc_data.xlsx\")\n",
    "df.head()"
   ]
  }
 ],
 "metadata": {
  "kernelspec": {
   "display_name": "Python 3",
   "language": "python",
   "name": "python3"
  },
  "language_info": {
   "codemirror_mode": {
    "name": "ipython",
    "version": 3
   },
   "file_extension": ".py",
   "mimetype": "text/x-python",
   "name": "python",
   "nbconvert_exporter": "python",
   "pygments_lexer": "ipython3",
   "version": "3.10.9"
  },
  "orig_nbformat": 4
 },
 "nbformat": 4,
 "nbformat_minor": 2
}
