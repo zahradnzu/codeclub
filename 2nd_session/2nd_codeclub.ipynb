{
 "cells": [
  {
   "attachments": {},
   "cell_type": "markdown",
   "metadata": {},
   "source": [
    "## CODECLUB vol. 2\n",
    "<b>Ahoj!</b> Na druhým setkání jsme si trošku rozšířili obecné znalosti a ukázali koncept podmínek, for cyklů, komparativních a logických operátorů a něco málo ke knihovnám a iteraci přes data. Tenhle notebook si můžete stáhnout jako celý soubor a překopírovávat/pouštět si jednotlivé chunky (nutno mít ve VS Code nainstalovanou extension Jupyter)."
   ]
  },
  {
   "attachments": {},
   "cell_type": "markdown",
   "metadata": {},
   "source": [
    "<b>↓ PRIRAZENI DO DVOU PROMENNYCH SOUCASNE ↓</b>  \n",
    "Volame funkci input, ktera vraci 1 string (jmeno a prijmeni) vlozene uzivatelem. na tento string se postupne hiearchicky volaji **metody**:  \n",
    "1. **.strip()** vrati vlozeny string bez prebytecnych mezer pred i za pismenky v nem\n",
    "2. **.title()** vezme vsechna slova ve stringu a vrati string s \"Velkym Pismenem Na Zacatku\"\n",
    "3. **.split(sep=\" \")** bere jiz od mezer osekany string s velkymi pocatecnimi pismeny (to pro nej udelaly metody zavolane pred nim) a *rozseka* ho na tolik casti, kolikrat najde nami specifikovany separator - specifikujeme parametr *sep=* a jako argument mu davame \" \" (mezeru), protoze chceme nas string rozstrelit na casti podle mezer. Tato metoda nevraci string, ale list rozsekanych stringu - nicmene pokud bude nami vkladany string po rozdeleni list o *n* castech a my prirazujeme do *n* promennych, pak se to rozstreli do nich a muzeme s nimi dale pracovat."
   ]
  },
  {
   "cell_type": "code",
   "execution_count": 1,
   "metadata": {},
   "outputs": [
    {
     "name": "stdout",
     "output_type": "stream",
     "text": [
      "krestni jmeno: Pepa\n",
      "prijmeni: Novák\n"
     ]
    }
   ],
   "source": [
    "jmeno, prijmeni = input(\"Uveďte své jméno a příjmení: \").strip().title().split(sep=\" \")\n",
    "print(f\"krestni jmeno: {jmeno}\\nprijmeni: {prijmeni}\")\n",
    "\n",
    "#zde jsem navic v ramci printeneho stringu pouzila \\n, coz je znak pro enter - print nasledne nevypise doslova \"\\n\", ale udela dalsi radek."
   ]
  },
  {
   "attachments": {},
   "cell_type": "markdown",
   "metadata": {},
   "source": [
    "<b>INDEXOVANI</b>  \n",
    "Indexovani je zpusob, jakym referovat na jednotlive polozky v ramci nejakeho (*iterovatelneho* - o tom vice nize) objektu - kazda polozka v ramci takoveho objektu ma nejake unikatni, poradove cislo, pomoci ktereho na ni muzeme referovat. Ukazkovym prikladem je list (viz kod nize), tabulka, string.  \n",
    "Zasadni:  \n",
    "- Pythonu se **indexuje od 0** (prvni polozka v listu ma index 0, v tabulce prvni radek 0 a prvni sloupec 0, ve stringu prvni znak,...)\n",
    "- lze *sahnout* po polozkach odzadu pomoci znamenka minus (posledni polozka je dosazitelna mimo sveho \"poradoveho indexu\" taky pomoci indexu -1)\n",
    "- **POZOR** - pokud specifikujeme rozsah, napr. chceme sahnout po prvnich n hodnotach v listu - syntax je list[0:n] - prvni polozka ma index 0, druha 1, treti 2 a ctvrta s indexem 3 uz tam zahrnuta neni. prvni z indexu v nami specifikovanem rozsahu je INCLUDED, ale ten posledni uz ne (! rozdil proti R, navic napr. knihovna pandas pro python nekde taky bere included:included)"
   ]
  },
  {
   "cell_type": "code",
   "execution_count": 2,
   "metadata": {},
   "outputs": [
    {
     "name": "stdout",
     "output_type": "stream",
     "text": [
      "B\n",
      "Jarmila\n",
      "['Anna', 'Karel', 'Vojtěch']\n"
     ]
    }
   ],
   "source": [
    "abeceda = \"ABCDEFGH\"\n",
    "print(abeceda[1]) # string je sekvence znaku a kazdy znak v ramci nej ma svuj index - lze \"zavolat\" pomoci hranatych zavorek []\n",
    "\n",
    "seznam_pacientu = [\"Anna\", \"Karel\", \"Vojtěch\", \"Jakub\", \"Jarmila\"]\n",
    "print(seznam_pacientu[-1]) # volani posledni polozky v seznamu\n",
    "print(seznam_pacientu[0:3]) # volani polozek s indexem 0 az 2 (3 uz neni zahrnuto)"
   ]
  },
  {
   "attachments": {},
   "cell_type": "markdown",
   "metadata": {},
   "source": [
    "<b>UVOD DO PODMINEK</b>  \n",
    "Podmínky jsou způsob, jakým ve skriptu ošetřit, že při splnění určitého výrazu (tj. výraz nabyde hodnoty *True*) → \"if\" = \"POKUD\" - se vykoná určitá akce.\n",
    "- podminky pod sebou muzeme retezit\n",
    "- **if** se \"zkusi\" vzdycky, **elif** jen pri nesplneni nadrazene podminky (coz muze bejt jak if, tak elif)\n",
    "- **else** je \"kontejner\", do ktereho spadne vse, pokud se nesplnila ani jedna z vyse zminenych podminek. neni nutne ho specifikovat, pokud pro zbytek pripadu, ktere nespadly do zadne z vyse specifikovanych podminek nechceme nic udelat."
   ]
  },
  {
   "cell_type": "code",
   "execution_count": 3,
   "metadata": {},
   "outputs": [
    {
     "name": "stdout",
     "output_type": "stream",
     "text": [
      "Anémie :(\n"
     ]
    }
   ],
   "source": [
    "# Jednoducha podminka determinujici, jestli hodnota Hb odpovida anemii nebo ne\n",
    "\n",
    "Hb = float(input(\"Jaká je hodnota hemoglobinu v g/l? \"))\n",
    "\n",
    "if Hb < 120:\n",
    "    print(\"Anémie :(\")\n",
    "else:\n",
    "    print(\"Není anémie :)\")"
   ]
  },
  {
   "cell_type": "code",
   "execution_count": 4,
   "metadata": {},
   "outputs": [
    {
     "name": "stdout",
     "output_type": "stream",
     "text": [
      "To je zas moc :(\n"
     ]
    }
   ],
   "source": [
    "# Uprava do podoby s elif, pokryvajici cele rozmezi\n",
    "\n",
    "Hb = float(input(\"Jaká je hodnota hemoglobinu v g/l? \"))\n",
    "           \n",
    "if Hb < 120:\n",
    "    print(\"Anémie :(\")\n",
    "elif Hb > 160:\n",
    "    print(\"To je zas moc :(\")\n",
    "else:\n",
    "    print(\"V rozmezí :)\")"
   ]
  },
  {
   "attachments": {},
   "cell_type": "markdown",
   "metadata": {},
   "source": [
    "<b>KOMPARATIVNI A LOGICKE OPERATORY</b>  \n",
    "**Logické operátory** využíváme pro bližší specifikaci podmínek.\n",
    "- **and** používáme, pokud chceme, aby oba (příp. více) výrazů platilo pro splnění podmínky (oba musí být *True*, aby se provedla akce)\n",
    "- **or** využíváme, pokud nám stačí, aby alespoň jeden z výrazů platil\n",
    "- **not** je operátorem pro negaci.  \n",
    "  \n",
    "**Komparativní operátory** jsou následující:  \n",
    "- == (rovná se), != (nerovná se)\n",
    "- \\>, \\< (větší než, menší než)\n",
    "- \\>=, \\<= (větší nebo rovno, menší nebo rovno)"
   ]
  },
  {
   "cell_type": "code",
   "execution_count": 5,
   "metadata": {},
   "outputs": [
    {
     "name": "stdout",
     "output_type": "stream",
     "text": [
      "Anémie :(\n"
     ]
    }
   ],
   "source": [
    "# jednoducha kombinace podminek, prace s datovymi typy a logickych a komparativnich operatoru\n",
    "\n",
    "Hb = float(input(\"Jaká je hodnota hemoglobinu v g/l? \"))\n",
    "sex = input(\"Jaké je pohlaví pacienta? M/F \").lower()\n",
    "\n",
    "if Hb < 120 and sex == \"f\" or Hb < 135 and sex == \"m\":\n",
    "    print(\"Anémie :(\")\n",
    "elif Hb > 160 and sex == \"f\" or Hb > 170 and sex == \"m\":\n",
    "    print(\"To je zas moc :(\")\n",
    "else:\n",
    "    print(\"v normě :)\")"
   ]
  },
  {
   "cell_type": "code",
   "execution_count": 6,
   "metadata": {},
   "outputs": [
    {
     "name": "stdout",
     "output_type": "stream",
     "text": [
      "0\n",
      "1\n",
      "2\n",
      "3\n",
      "4\n",
      "5\n",
      "6\n",
      "7\n",
      "8\n",
      "9\n"
     ]
    }
   ],
   "source": [
    "# jednoduchý while cyklus\n",
    "\n",
    "i = 0\n",
    "while i < 10:\n",
    "    print(i)\n",
    "    i += 1"
   ]
  },
  {
   "attachments": {},
   "cell_type": "markdown",
   "metadata": {},
   "source": [
    "**FOR CYKLY**  \n",
    "Cykly obecně slouží pro vykonání nějaké operace n-krát, ať už print(\"Hello world!\"), projití n řádků v tabulce a prohnání každého z nich souborem ifů nebo např. vygenerování n grafů. **For** cykly slouží k **iteraci** nejčastěji přes listy, stringy, tabulky - tedy objekty, které v sobě schovávají nějaké podobjekty, z nichž pro každý budeme chtít udělat nějakou akci. Doslova tedy \"**pro** *každou proměnnou* **v** *iterované proměnné* → **akce**\".  \n",
    "Cykly, stejně jako podmínky, lze do sebe *vnořovat*."
   ]
  },
  {
   "cell_type": "code",
   "execution_count": 19,
   "metadata": {},
   "outputs": [
    {
     "name": "stdout",
     "output_type": "stream",
     "text": [
      "Pacient Anna leží na JIP_A\n",
      "Pacient Karel leží na JIP_A\n",
      "Pacient Vojtěch leží na JIP_A\n",
      "Pacient Jakub leží na JIP_A\n"
     ]
    }
   ],
   "source": [
    "seznam_pacientu = [\"Anna\", \"Karel\", \"Vojtěch\", \"Jakub\"]\n",
    "jmeno_oddeleni = \"JIP_A\"\n",
    "\n",
    "# priklad iterace pres list seznam_pacientu, kdy pro kazdou polozku v nem jsme udelali akci\n",
    "\n",
    "for pacient in seznam_pacientu:\n",
    "    print(f\"Pacient {pacient} leží na {jmeno_oddeleni}\")"
   ]
  },
  {
   "cell_type": "code",
   "execution_count": 18,
   "metadata": {},
   "outputs": [
    {
     "name": "stdout",
     "output_type": "stream",
     "text": [
      "Jana leží na standardu CHIR_B\n",
      "J\n",
      "a\n",
      "n\n",
      "a\n",
      "Petr leží na standardu CHIR_B\n",
      "P\n",
      "e\n",
      "t\n",
      "r\n",
      "Zdena leží na standardu CHIR_B\n",
      "Z\n",
      "d\n",
      "e\n",
      "n\n",
      "a\n"
     ]
    }
   ],
   "source": [
    "seznam_pacientu_standard = [\"Jana\", \"Petr\", \"Zdena\"]\n",
    "jmeno_oddeleni_standard = \"CHIR_B\"\n",
    "\n",
    "# priklad vnoreneho cyklu\n",
    "\n",
    "for pacient in seznam_pacientu_standard:\n",
    "    print(f\"{pacient} leží na standardu {jmeno_oddeleni_standard}\")\n",
    "    for i in pacient:\n",
    "        print(i)\n"
   ]
  },
  {
   "attachments": {},
   "cell_type": "markdown",
   "metadata": {},
   "source": [
    "**KNIHOVNY**  \n",
    "Knihovny jsou v podstatě rozšíření našeho pythonovského arzenálu o další funkce a třídy (jako DLC do Simíků). Knihovnu je nejdříve nutné nainstalovat do počítače přes terminál (typicky command: *pip install jmeno_knihovny*) a následně do skriptu naimportovat, viz kód. Když tvoříme objekt nějaké třídy z naimportované knihovny, volá se její alias (zde viz \"pd.\"). Všechny informace (o instalaci, funkcích, objektech) jsou vždycky dogooglitelné v dokumentaci pro danou knihovnu.  \n",
    "Naprosto základní knihovnou pro práci s daty v Pythonu je **pandas** - umožňuje práci s tabulkami a daty v nich."
   ]
  },
  {
   "cell_type": "code",
   "execution_count": 8,
   "metadata": {},
   "outputs": [
    {
     "data": {
      "text/html": [
       "<div>\n",
       "<style scoped>\n",
       "    .dataframe tbody tr th:only-of-type {\n",
       "        vertical-align: middle;\n",
       "    }\n",
       "\n",
       "    .dataframe tbody tr th {\n",
       "        vertical-align: top;\n",
       "    }\n",
       "\n",
       "    .dataframe thead th {\n",
       "        text-align: right;\n",
       "    }\n",
       "</style>\n",
       "<table border=\"1\" class=\"dataframe\">\n",
       "  <thead>\n",
       "    <tr style=\"text-align: right;\">\n",
       "      <th></th>\n",
       "      <th>date</th>\n",
       "      <th>ward</th>\n",
       "      <th>patient</th>\n",
       "      <th>sex</th>\n",
       "      <th>age</th>\n",
       "      <th>microbe</th>\n",
       "      <th>crp</th>\n",
       "      <th>temp</th>\n",
       "      <th>btype</th>\n",
       "      <th>hb</th>\n",
       "    </tr>\n",
       "  </thead>\n",
       "  <tbody>\n",
       "    <tr>\n",
       "      <th>0</th>\n",
       "      <td>2023-03-12</td>\n",
       "      <td>JIP_A</td>\n",
       "      <td>Petra Nová</td>\n",
       "      <td>f</td>\n",
       "      <td>31</td>\n",
       "      <td>Staphylococcus aureus</td>\n",
       "      <td>120</td>\n",
       "      <td>38.5</td>\n",
       "      <td>A+</td>\n",
       "      <td>119</td>\n",
       "    </tr>\n",
       "    <tr>\n",
       "      <th>1</th>\n",
       "      <td>2023-03-12</td>\n",
       "      <td>JIP_A</td>\n",
       "      <td>Jana Modrá</td>\n",
       "      <td>f</td>\n",
       "      <td>81</td>\n",
       "      <td>Staphylococcus epidermidis</td>\n",
       "      <td>30</td>\n",
       "      <td>37.3</td>\n",
       "      <td>A-</td>\n",
       "      <td>120</td>\n",
       "    </tr>\n",
       "    <tr>\n",
       "      <th>2</th>\n",
       "      <td>2023-03-13</td>\n",
       "      <td>JIP_A</td>\n",
       "      <td>Jana Modrá</td>\n",
       "      <td>f</td>\n",
       "      <td>81</td>\n",
       "      <td>Staphylococcus epidermidis</td>\n",
       "      <td>36</td>\n",
       "      <td>38.2</td>\n",
       "      <td>A-</td>\n",
       "      <td>120</td>\n",
       "    </tr>\n",
       "    <tr>\n",
       "      <th>3</th>\n",
       "      <td>2023-03-13</td>\n",
       "      <td>JIP_A</td>\n",
       "      <td>Jan Bezucký</td>\n",
       "      <td>m</td>\n",
       "      <td>7</td>\n",
       "      <td>Haemophilus influenzae</td>\n",
       "      <td>70</td>\n",
       "      <td>38.6</td>\n",
       "      <td>B+</td>\n",
       "      <td>142</td>\n",
       "    </tr>\n",
       "    <tr>\n",
       "      <th>4</th>\n",
       "      <td>2023-03-13</td>\n",
       "      <td>CHIR_B</td>\n",
       "      <td>Marie Vomáčková</td>\n",
       "      <td>f</td>\n",
       "      <td>47</td>\n",
       "      <td>Staphylococcus epidermidis</td>\n",
       "      <td>46</td>\n",
       "      <td>36.9</td>\n",
       "      <td>0</td>\n",
       "      <td>89</td>\n",
       "    </tr>\n",
       "  </tbody>\n",
       "</table>\n",
       "</div>"
      ],
      "text/plain": [
       "        date    ward          patient sex  age                     microbe  \\\n",
       "0 2023-03-12   JIP_A       Petra Nová   f   31       Staphylococcus aureus   \n",
       "1 2023-03-12   JIP_A       Jana Modrá   f   81  Staphylococcus epidermidis   \n",
       "2 2023-03-13   JIP_A       Jana Modrá   f   81  Staphylococcus epidermidis   \n",
       "3 2023-03-13   JIP_A      Jan Bezucký   m    7      Haemophilus influenzae   \n",
       "4 2023-03-13  CHIR_B  Marie Vomáčková   f   47  Staphylococcus epidermidis   \n",
       "\n",
       "   crp  temp btype   hb  \n",
       "0  120  38.5    A+  119  \n",
       "1   30  37.3    A-  120  \n",
       "2   36  38.2    A-  120  \n",
       "3   70  38.6    B+  142  \n",
       "4   46  36.9     0   89  "
      ]
     },
     "execution_count": 8,
     "metadata": {},
     "output_type": "execute_result"
    }
   ],
   "source": [
    "import pandas as pd # import knihovny pandas pod aliasem pd, predpoklada, ze uz ji mam nainstalovanou\n",
    "import numpy as np # import knihovny numpy\n",
    "\n",
    "df = pd.read_excel(\"C:/Users/zahra/Desktop/python_import/cc_data.xlsx\") # konstrukce objektu dataframe z excelove tabulky v nasem pocitaci\n",
    "df.head() # volani metody .head(), ktera zobrazi prvnich 5 radku z dataframe z nasi naimportovane excelove tabulky"
   ]
  },
  {
   "cell_type": "code",
   "execution_count": 20,
   "metadata": {},
   "outputs": [
    {
     "name": "stdout",
     "output_type": "stream",
     "text": [
      "Paní Petra Nová má anémii.\n",
      "Jana Modrá je vpoho\n",
      "Jana Modrá je vpoho\n",
      "Jan Bezucký je vpoho\n",
      "Paní Marie Vomáčková má anémii.\n",
      "Paní Klára Doskočilová má anémii.\n",
      "Petr Červený je vpoho\n",
      "Pan Miroslav Kovář má anémii.\n",
      "Pan Jaroslav Šťastný má anémii.\n",
      "Jakub Jánský je vpoho\n",
      "Paní Markéta Potočná má anémii.\n",
      "Paní Marcela Zelená má anémii.\n",
      "Jakub Radvanský je vpoho\n",
      "Svatoslav Vomáčka je vpoho\n",
      "Paní Simona Modráková má anémii.\n"
     ]
    }
   ],
   "source": [
    "# ukazka iterace pres dataframe s nasimi daty (je pro to potreba metoda .iterrows(), ktera vraci 2 promenne - lab pro index radku\n",
    "# a samotny radek v podobe series, coz je zas jiny datovy typ) \n",
    "\n",
    "for lab, row in df.iterrows():\n",
    "    if row[\"sex\"] == \"f\" and row[\"hb\"] < 120:\n",
    "        print(f\"Paní {row['patient']} má anémii.\")\n",
    "    elif row[\"sex\"] == \"m\" and row[\"hb\"] < 135:\n",
    "        print(f\"Pan {row['patient']} má anémii.\")\n",
    "    else:\n",
    "        print(f\"{row['patient']} je vpoho\")"
   ]
  },
  {
   "cell_type": "code",
   "execution_count": 21,
   "metadata": {},
   "outputs": [
    {
     "data": {
      "text/html": [
       "<div>\n",
       "<style scoped>\n",
       "    .dataframe tbody tr th:only-of-type {\n",
       "        vertical-align: middle;\n",
       "    }\n",
       "\n",
       "    .dataframe tbody tr th {\n",
       "        vertical-align: top;\n",
       "    }\n",
       "\n",
       "    .dataframe thead th {\n",
       "        text-align: right;\n",
       "    }\n",
       "</style>\n",
       "<table border=\"1\" class=\"dataframe\">\n",
       "  <thead>\n",
       "    <tr style=\"text-align: right;\">\n",
       "      <th></th>\n",
       "      <th>date</th>\n",
       "      <th>ward</th>\n",
       "      <th>patient</th>\n",
       "      <th>sex</th>\n",
       "      <th>age</th>\n",
       "      <th>microbe</th>\n",
       "      <th>crp</th>\n",
       "      <th>temp</th>\n",
       "      <th>btype</th>\n",
       "      <th>hb</th>\n",
       "    </tr>\n",
       "  </thead>\n",
       "  <tbody>\n",
       "    <tr>\n",
       "      <th>0</th>\n",
       "      <td>2023-03-12</td>\n",
       "      <td>JIP_A</td>\n",
       "      <td>Petra Nová</td>\n",
       "      <td>f</td>\n",
       "      <td>31</td>\n",
       "      <td>Staphylococcus aureus</td>\n",
       "      <td>120</td>\n",
       "      <td>38.5</td>\n",
       "      <td>A+</td>\n",
       "      <td>119</td>\n",
       "    </tr>\n",
       "    <tr>\n",
       "      <th>2</th>\n",
       "      <td>2023-03-13</td>\n",
       "      <td>JIP_A</td>\n",
       "      <td>Jana Modrá</td>\n",
       "      <td>f</td>\n",
       "      <td>81</td>\n",
       "      <td>Staphylococcus epidermidis</td>\n",
       "      <td>36</td>\n",
       "      <td>38.2</td>\n",
       "      <td>A-</td>\n",
       "      <td>120</td>\n",
       "    </tr>\n",
       "    <tr>\n",
       "      <th>3</th>\n",
       "      <td>2023-03-13</td>\n",
       "      <td>JIP_A</td>\n",
       "      <td>Jan Bezucký</td>\n",
       "      <td>m</td>\n",
       "      <td>7</td>\n",
       "      <td>Haemophilus influenzae</td>\n",
       "      <td>70</td>\n",
       "      <td>38.6</td>\n",
       "      <td>B+</td>\n",
       "      <td>142</td>\n",
       "    </tr>\n",
       "    <tr>\n",
       "      <th>5</th>\n",
       "      <td>2023-03-13</td>\n",
       "      <td>CHIR_B</td>\n",
       "      <td>Klára Doskočilová</td>\n",
       "      <td>f</td>\n",
       "      <td>18</td>\n",
       "      <td>Neisseria meningitidis</td>\n",
       "      <td>88</td>\n",
       "      <td>39.5</td>\n",
       "      <td>A+</td>\n",
       "      <td>109</td>\n",
       "    </tr>\n",
       "    <tr>\n",
       "      <th>8</th>\n",
       "      <td>2023-03-17</td>\n",
       "      <td>CHIR_B</td>\n",
       "      <td>Jaroslav Šťastný</td>\n",
       "      <td>m</td>\n",
       "      <td>75</td>\n",
       "      <td>Staphylococcus epidermidis</td>\n",
       "      <td>78</td>\n",
       "      <td>38.4</td>\n",
       "      <td>A+</td>\n",
       "      <td>131</td>\n",
       "    </tr>\n",
       "    <tr>\n",
       "      <th>10</th>\n",
       "      <td>2023-03-18</td>\n",
       "      <td>JIP_A</td>\n",
       "      <td>Markéta Potočná</td>\n",
       "      <td>f</td>\n",
       "      <td>64</td>\n",
       "      <td>Streptococcus pneumoniae</td>\n",
       "      <td>240</td>\n",
       "      <td>39.4</td>\n",
       "      <td>0</td>\n",
       "      <td>109</td>\n",
       "    </tr>\n",
       "    <tr>\n",
       "      <th>14</th>\n",
       "      <td>2023-03-19</td>\n",
       "      <td>JIP_A</td>\n",
       "      <td>Simona Modráková</td>\n",
       "      <td>f</td>\n",
       "      <td>47</td>\n",
       "      <td>Pseudomonas aeruginosa</td>\n",
       "      <td>149</td>\n",
       "      <td>38.4</td>\n",
       "      <td>A-</td>\n",
       "      <td>62</td>\n",
       "    </tr>\n",
       "  </tbody>\n",
       "</table>\n",
       "</div>"
      ],
      "text/plain": [
       "         date    ward            patient sex  age                     microbe  \\\n",
       "0  2023-03-12   JIP_A         Petra Nová   f   31       Staphylococcus aureus   \n",
       "2  2023-03-13   JIP_A         Jana Modrá   f   81  Staphylococcus epidermidis   \n",
       "3  2023-03-13   JIP_A        Jan Bezucký   m    7      Haemophilus influenzae   \n",
       "5  2023-03-13  CHIR_B  Klára Doskočilová   f   18      Neisseria meningitidis   \n",
       "8  2023-03-17  CHIR_B   Jaroslav Šťastný   m   75  Staphylococcus epidermidis   \n",
       "10 2023-03-18   JIP_A    Markéta Potočná   f   64    Streptococcus pneumoniae   \n",
       "14 2023-03-19   JIP_A   Simona Modráková   f   47      Pseudomonas aeruginosa   \n",
       "\n",
       "    crp  temp btype   hb  \n",
       "0   120  38.5    A+  119  \n",
       "2    36  38.2    A-  120  \n",
       "3    70  38.6    B+  142  \n",
       "5    88  39.5    A+  109  \n",
       "8    78  38.4    A+  131  \n",
       "10  240  39.4     0  109  \n",
       "14  149  38.4    A-   62  "
      ]
     },
     "execution_count": 21,
     "metadata": {},
     "output_type": "execute_result"
    }
   ],
   "source": [
    "# metoda .query() nam umoznuje specifikovat podminky, na zaklade kterych vrati \"subsetted\" dataframe - vysek, ktery splnuje nase kriteria\n",
    "df.query(\"temp > 38 & hb < 150\")"
   ]
  },
  {
   "cell_type": "code",
   "execution_count": 22,
   "metadata": {},
   "outputs": [
    {
     "data": {
      "text/html": [
       "<div>\n",
       "<style scoped>\n",
       "    .dataframe tbody tr th:only-of-type {\n",
       "        vertical-align: middle;\n",
       "    }\n",
       "\n",
       "    .dataframe tbody tr th {\n",
       "        vertical-align: top;\n",
       "    }\n",
       "\n",
       "    .dataframe thead th {\n",
       "        text-align: right;\n",
       "    }\n",
       "</style>\n",
       "<table border=\"1\" class=\"dataframe\">\n",
       "  <thead>\n",
       "    <tr style=\"text-align: right;\">\n",
       "      <th></th>\n",
       "      <th>date</th>\n",
       "      <th>ward</th>\n",
       "      <th>patient</th>\n",
       "      <th>sex</th>\n",
       "      <th>age</th>\n",
       "      <th>microbe</th>\n",
       "      <th>crp</th>\n",
       "      <th>temp</th>\n",
       "      <th>btype</th>\n",
       "      <th>hb</th>\n",
       "    </tr>\n",
       "  </thead>\n",
       "  <tbody>\n",
       "    <tr>\n",
       "      <th>0</th>\n",
       "      <td>2023-03-12</td>\n",
       "      <td>JIP_A</td>\n",
       "      <td>Petra Nová</td>\n",
       "      <td>f</td>\n",
       "      <td>31</td>\n",
       "      <td>Staphylococcus aureus</td>\n",
       "      <td>120</td>\n",
       "      <td>38.5</td>\n",
       "      <td>A+</td>\n",
       "      <td>119</td>\n",
       "    </tr>\n",
       "    <tr>\n",
       "      <th>4</th>\n",
       "      <td>2023-03-13</td>\n",
       "      <td>CHIR_B</td>\n",
       "      <td>Marie Vomáčková</td>\n",
       "      <td>f</td>\n",
       "      <td>47</td>\n",
       "      <td>Staphylococcus epidermidis</td>\n",
       "      <td>46</td>\n",
       "      <td>36.9</td>\n",
       "      <td>0</td>\n",
       "      <td>89</td>\n",
       "    </tr>\n",
       "    <tr>\n",
       "      <th>5</th>\n",
       "      <td>2023-03-13</td>\n",
       "      <td>CHIR_B</td>\n",
       "      <td>Klára Doskočilová</td>\n",
       "      <td>f</td>\n",
       "      <td>18</td>\n",
       "      <td>Neisseria meningitidis</td>\n",
       "      <td>88</td>\n",
       "      <td>39.5</td>\n",
       "      <td>A+</td>\n",
       "      <td>109</td>\n",
       "    </tr>\n",
       "    <tr>\n",
       "      <th>7</th>\n",
       "      <td>2023-03-14</td>\n",
       "      <td>JIP_A</td>\n",
       "      <td>Miroslav Kovář</td>\n",
       "      <td>m</td>\n",
       "      <td>81</td>\n",
       "      <td>Streptococcus pneumoniae</td>\n",
       "      <td>132</td>\n",
       "      <td>37.3</td>\n",
       "      <td>B-</td>\n",
       "      <td>105</td>\n",
       "    </tr>\n",
       "    <tr>\n",
       "      <th>8</th>\n",
       "      <td>2023-03-17</td>\n",
       "      <td>CHIR_B</td>\n",
       "      <td>Jaroslav Šťastný</td>\n",
       "      <td>m</td>\n",
       "      <td>75</td>\n",
       "      <td>Staphylococcus epidermidis</td>\n",
       "      <td>78</td>\n",
       "      <td>38.4</td>\n",
       "      <td>A+</td>\n",
       "      <td>131</td>\n",
       "    </tr>\n",
       "    <tr>\n",
       "      <th>10</th>\n",
       "      <td>2023-03-18</td>\n",
       "      <td>JIP_A</td>\n",
       "      <td>Markéta Potočná</td>\n",
       "      <td>f</td>\n",
       "      <td>64</td>\n",
       "      <td>Streptococcus pneumoniae</td>\n",
       "      <td>240</td>\n",
       "      <td>39.4</td>\n",
       "      <td>0</td>\n",
       "      <td>109</td>\n",
       "    </tr>\n",
       "    <tr>\n",
       "      <th>11</th>\n",
       "      <td>2023-03-18</td>\n",
       "      <td>JIP_A</td>\n",
       "      <td>Marcela Zelená</td>\n",
       "      <td>f</td>\n",
       "      <td>32</td>\n",
       "      <td>Pseudomonas aeruginosa</td>\n",
       "      <td>133</td>\n",
       "      <td>37.4</td>\n",
       "      <td>0</td>\n",
       "      <td>75</td>\n",
       "    </tr>\n",
       "    <tr>\n",
       "      <th>14</th>\n",
       "      <td>2023-03-19</td>\n",
       "      <td>JIP_A</td>\n",
       "      <td>Simona Modráková</td>\n",
       "      <td>f</td>\n",
       "      <td>47</td>\n",
       "      <td>Pseudomonas aeruginosa</td>\n",
       "      <td>149</td>\n",
       "      <td>38.4</td>\n",
       "      <td>A-</td>\n",
       "      <td>62</td>\n",
       "    </tr>\n",
       "  </tbody>\n",
       "</table>\n",
       "</div>"
      ],
      "text/plain": [
       "         date    ward            patient sex  age                     microbe  \\\n",
       "0  2023-03-12   JIP_A         Petra Nová   f   31       Staphylococcus aureus   \n",
       "4  2023-03-13  CHIR_B    Marie Vomáčková   f   47  Staphylococcus epidermidis   \n",
       "5  2023-03-13  CHIR_B  Klára Doskočilová   f   18      Neisseria meningitidis   \n",
       "7  2023-03-14   JIP_A     Miroslav Kovář   m   81    Streptococcus pneumoniae   \n",
       "8  2023-03-17  CHIR_B   Jaroslav Šťastný   m   75  Staphylococcus epidermidis   \n",
       "10 2023-03-18   JIP_A    Markéta Potočná   f   64    Streptococcus pneumoniae   \n",
       "11 2023-03-18   JIP_A     Marcela Zelená   f   32      Pseudomonas aeruginosa   \n",
       "14 2023-03-19   JIP_A   Simona Modráková   f   47      Pseudomonas aeruginosa   \n",
       "\n",
       "    crp  temp btype   hb  \n",
       "0   120  38.5    A+  119  \n",
       "4    46  36.9     0   89  \n",
       "5    88  39.5    A+  109  \n",
       "7   132  37.3    B-  105  \n",
       "8    78  38.4    A+  131  \n",
       "10  240  39.4     0  109  \n",
       "11  133  37.4     0   75  \n",
       "14  149  38.4    A-   62  "
      ]
     },
     "execution_count": 22,
     "metadata": {},
     "output_type": "execute_result"
    }
   ],
   "source": [
    "# dalsi ukazka .query(), kombinujici vicero podminek (zde subsettujici dataframe pro anemicke pacienty zohlednujici rozdilny cutoff u muzu a zen)\n",
    "\n",
    "df.query(\"sex == 'f' & hb < 120 | sex == 'm' & hb < 135\")"
   ]
  }
 ],
 "metadata": {
  "kernelspec": {
   "display_name": "Python 3",
   "language": "python",
   "name": "python3"
  },
  "language_info": {
   "codemirror_mode": {
    "name": "ipython",
    "version": 3
   },
   "file_extension": ".py",
   "mimetype": "text/x-python",
   "name": "python",
   "nbconvert_exporter": "python",
   "pygments_lexer": "ipython3",
   "version": "3.10.12"
  },
  "orig_nbformat": 4
 },
 "nbformat": 4,
 "nbformat_minor": 2
}
