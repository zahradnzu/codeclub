{
 "cells": [
  {
   "cell_type": "code",
   "execution_count": 26,
   "metadata": {},
   "outputs": [
    {
     "name": "stdout",
     "output_type": "stream",
     "text": [
      "anémie :(\n"
     ]
    }
   ],
   "source": [
    "Hb = float(input(\"Jaká je hodnota Hb v g/l? \").strip())\n",
    "sex = input(\"M/F? \").lower().strip()\n",
    "\n",
    "if Hb < 120 and sex == \"f\" or Hb < 135 and sex == \"m\":\n",
    "    print(\"anémie :(\")\n",
    "elif Hb > 160 and sex == \"f\" or Hb > 175 and sex == \"m\":\n",
    "    print(\"moc velký:(\")\n",
    "else:\n",
    "    print(\"v normě:) \")"
   ]
  }
 ],
 "metadata": {
  "kernelspec": {
   "display_name": "Python 3",
   "language": "python",
   "name": "python3"
  },
  "language_info": {
   "codemirror_mode": {
    "name": "ipython",
    "version": 3
   },
   "file_extension": ".py",
   "mimetype": "text/x-python",
   "name": "python",
   "nbconvert_exporter": "python",
   "pygments_lexer": "ipython3",
   "version": "3.10.9"
  },
  "orig_nbformat": 4
 },
 "nbformat": 4,
 "nbformat_minor": 2
}
