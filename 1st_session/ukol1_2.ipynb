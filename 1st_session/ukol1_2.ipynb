{
 "cells": [
  {
   "attachments": {},
   "cell_type": "markdown",
   "metadata": {},
   "source": [
    "<b>ZADANI:</b> Napiste program, ktery se zepta na jmeno lekare, tento vstup osetri (oseka zbytecne mezery, zajisti, aby prvni pismena jmena i prijmeni byla velka a pred jmeno priradi titul MUDr.) a priradi ho do promenne. Nasledne se zepta na pocet odpracovanych hodin tento mesic a vypocita, kolik % to je z bezneho pracovniho mesice (160 hodin) a procenta zaokrouhli na 2 desetinna mista. Vystupem bude veta ve formatu \"Lekar\\*ka \\*MUDr. Jmeno Prijmeni\\* tento tyden odpracoval \\*procento\\* bezneho pracovniho tydne.\" Priklady:\n",
    "- input: \"anNA nOVA\", \"195.5\" → output: \"Lekar\\*ka MUDr. Anna Nova odpracoval\\*a 122.19 % hodin bezneho pracovniho uvazku.\"\n",
    "- input: \"  Lukas volny\", \"99 \" → output: \"Lekar\\*ka MUDr. Lukas Novy odpracoval\\*a 61.88 % hodin bezneho pracovniho uvazku.\""
   ]
  },
  {
   "cell_type": "code",
   "execution_count": 1,
   "metadata": {},
   "outputs": [
    {
     "name": "stdout",
     "output_type": "stream",
     "text": [
      "Lekar*ka MUDr. Anna Nova odpracoval*a 122.19 % běžného fulltime pracovního úvazku.\n"
     ]
    }
   ],
   "source": [
    "\"\"\" SOLUTION \"\"\"\n",
    "\n",
    "lekar = input(\"Jméno a příjmení lékaře:\\n\").strip().title()\n",
    "odpracovano = round(float(input(\"Odpracované hodiny tento měsíc:\\n\"))/160*100, ndigits=4)\n",
    "\n",
    "print(f\"Lékař/ka MUDr. {lekar} odpracoval/a {odpracovano} % běžného fulltime pracovního úvazku.\")"
   ]
  }
 ],
 "metadata": {
  "kernelspec": {
   "display_name": "Python 3",
   "language": "python",
   "name": "python3"
  },
  "language_info": {
   "codemirror_mode": {
    "name": "ipython",
    "version": 3
   },
   "file_extension": ".py",
   "mimetype": "text/x-python",
   "name": "python",
   "nbconvert_exporter": "python",
   "pygments_lexer": "ipython3",
   "version": "3.10.12"
  },
  "orig_nbformat": 4
 },
 "nbformat": 4,
 "nbformat_minor": 2
}
