{
 "cells": [
  {
   "attachments": {},
   "cell_type": "markdown",
   "metadata": {},
   "source": [
    "<b>Ahoj!</b> V tomto souboru najdete zdrojovy kod s komentari, ktery jsme pouzivali na nasi prvni lekci. Formatem je tzv. jupyter notebook (koncovka .ipynb) - jednotlive kousky kodu v chliveccich (\"code chunks\") jsou spustitelne samostnatne a soucasne lze k nim pridat chlivecky s popisky v markdownu, ktere nejsou cteny jako kod. Pro jednoduchost staci si kod zkopirovat k sobe:\\)"
   ]
  },
  {
   "cell_type": "code",
   "execution_count": 8,
   "metadata": {},
   "outputs": [
    {
     "name": "stdout",
     "output_type": "stream",
     "text": [
      "Hello, world!\n"
     ]
    }
   ],
   "source": [
    "# UVOD - obligatni HELLO, WORLD: volani funkce print(), ktera vezme argument (v nasem pripade doslova string \"Hello, world\") a vypise ho do terminalu\n",
    "print(\"Hello, world!\")"
   ]
  },
  {
   "cell_type": "code",
   "execution_count": 9,
   "metadata": {},
   "outputs": [
    {
     "name": "stdout",
     "output_type": "stream",
     "text": [
      "5\n"
     ]
    }
   ],
   "source": [
    "\"\"\" PROMENNE A DATOVE TYPY - NASE ODDELENI: \"\"\"\n",
    "# string (str)\n",
    "jmeno_oddeleni = \"JIP_A\"\n",
    "pocet_lekaru = \"2\" # CAVE - Python bude tuto promennou brat jako sekvenci znaku (je ulozena v \"\"), NE jako cislo!\n",
    "\n",
    "# integer (int)\n",
    "pocet_pacientu = 4\n",
    "\n",
    "# float - bacha na desetinnou tecku (ne carku)\n",
    "pocet_uvazku = 2.6\n",
    "\n",
    "# boolean (bool)\n",
    "dobra_nalada = True\n",
    "maliginita = False\n",
    "\n",
    "# list - muze sam obsahovat ruzne datove typy\n",
    "seznam_pacientu = [\"Anna\", \"Karel\", \"Vratislav\", \"Jakub\", \"Jarmila\"]\n",
    "\n",
    "# prirazujeme do promenne pocet_pacientu delku listu seznam_pacientu (tuto hodnotu nam vrati funkce len())\n",
    "# toto je lepsi zpusob, nez pocet_pacientu definovat rucne, protoze musime pocitat s tim, ze se muze v\n",
    "# budoucnu menit. Navic, u delsich seznamu by to pocitat bylo zdlouhave + je prostor pro lidskou chybu.\n",
    "pocet_pacientu = len(seznam_pacientu)\n",
    "\n",
    "print(pocet_pacientu)"
   ]
  },
  {
   "cell_type": "code",
   "execution_count": 10,
   "metadata": {},
   "outputs": [
    {
     "name": "stdout",
     "output_type": "stream",
     "text": [
      "2.4\n"
     ]
    }
   ],
   "source": [
    "\"\"\" koncept FUNKCE \"\"\"\n",
    "# do promenne puvodni_cislo vkladame hodnotu 2.3671\n",
    "puvodni_cislo = 2.3671\n",
    "\n",
    "# volame funkci round a jeji parametry (number=, ndigits=) nakrmime nasimi argumenty\n",
    "zaoukrouhlene_cislo = round(number=puvodni_cislo, ndigits=1) \n",
    "\n",
    "# volame print, abychom videli zaokrouhlenou hodnotu\n",
    "print(zaoukrouhlene_cislo)"
   ]
  },
  {
   "cell_type": "code",
   "execution_count": 7,
   "metadata": {},
   "outputs": [
    {
     "name": "stdout",
     "output_type": "stream",
     "text": [
      "pepazdepa@seznam.cz\n",
      "cibule@gmail.com\n"
     ]
    }
   ],
   "source": [
    "\"\"\" OSEKANI MEZER - PRIKLAD METODY NA PRACI SE STRINGEM \"\"\"\n",
    "# volani input funkce, ktera vrati mail zadany do terminalu a nasledne zbaveni prebytecnych mezer na obou stranach\n",
    "# inputem vraceneho stringu pomoci metody .strip()\n",
    "# POZN.: \\n je zpusob zapisu odradkovani (newline) - obecne zpetne lomitko dela z nasledujicho znaku\n",
    "# znak specialni, ktery ma nejakou funkci - v tomto pripade se provede odradkovani a zadne \"\\n\" nevidime.\n",
    "\n",
    "email = input(\"Jakej máš mail?\\n\").strip()\n",
    "print(email)\n",
    "\n",
    "# alternativni \"cibulovy\" zapis - v tomto konkretním pripade nepotrebujeme ani ukladat ziskany mail do promenne,\n",
    "# protoze s nim uz dale nebudeme pracovat. pozor na hiearchii volani funkci a metod - .strip() je nutno zavesit\n",
    "# na hodnotu vracenou funkci input(), ne na print(), ktery uz predava argument do terminalu a NEMA navratovou hodnotu,\n",
    "# resp. vraci None\n",
    "\n",
    "print(input(\"Jakej máš mail?\\n\").strip())"
   ]
  },
  {
   "cell_type": "code",
   "execution_count": 5,
   "metadata": {},
   "outputs": [
    {
     "name": "stdout",
     "output_type": "stream",
     "text": [
      "Součet 6.55555 a 2.444 je 9.0\n"
     ]
    }
   ],
   "source": [
    "\"\"\" GLORIFIKOVANA KALKULACKA - kombinace znalosti o funkcich, datovych typech a formatovanych strings\"\"\"\n",
    "\n",
    "# volame funkci input, ktera v terminalu vypise dotaz a vrati string - protoze ale chceme scitat cisla, nikoliv stringy,\n",
    "# musime zavolat konstruktor int(), do ktereho vraceny string zabalime a ten jej prevede na cele cislo. \n",
    "x = float(input(\"Kolik je x? \"))\n",
    "y = float(input(\"Kolik je y? \"))\n",
    "\n",
    "# prirazeni vysledku do promenne a zaokrouhleni na 3 desetinna mista funkci round\n",
    "soucet = round(x + y, ndigits=3)\n",
    "\n",
    "# zobrazeni vysledku pomoci volani printu, ktery obsahuje tzv. FORMATOVANY string - s pismenem f pred uvozovkami - nasledne\n",
    "# lze pomoci vlnitych zavorek zobrazit hodnotu vysledne promenne\n",
    "print(f\"Součet {x} a {y} je {soucet}\")"
   ]
  },
  {
   "cell_type": "markdown",
   "metadata": {},
   "source": [
    "#### POZNAMKY / zasadni body ze seminare ####\n",
    "- <b>syntax</b> je soubor pravidel, jakymi v konkretnim jazyce zapisuje kod - pokud tato pravidla porusime (napr. vlozime mezeru, carku kam nemame)\n",
    "- <b>promenne</b> je treba deklarovat pred tim, nez je nekde pouzijeme (chceme vyprintit, s necim secist atd.) - skript je interpretovan radek po radku, zleva doprava\n",
    "- <b>funkce() x .metoda</b> funkce je obecny pojem - jedna se o kus kodu, ktery zavolame jmenem funkce (napr. print) a do jejich zavorek () vlozime argumenty. funkce nasledne vykona nejakou akci (do terminalu vypise, co jsme ji dali jako argument). metoda je funkce, ktera je vazana na konkretni datovy typ - napr. .capitalize(), metodu, ktera prvni pismena ve stringu zmeni na velka, logicky nemuzeme volat na integer (cele cislo)\n",
    "- <b></b>"
   ]
  }
 ],
 "metadata": {
  "kernelspec": {
   "display_name": "Python 3",
   "language": "python",
   "name": "python3"
  },
  "language_info": {
   "codemirror_mode": {
    "name": "ipython",
    "version": 3
   },
   "file_extension": ".py",
   "mimetype": "text/x-python",
   "name": "python",
   "nbconvert_exporter": "python",
   "pygments_lexer": "ipython3",
   "version": "3.10.12"
  },
  "orig_nbformat": 4
 },
 "nbformat": 4,
 "nbformat_minor": 2
}
