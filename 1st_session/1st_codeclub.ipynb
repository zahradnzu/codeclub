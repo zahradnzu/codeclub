{
 "cells": [
  {
   "attachments": {},
   "cell_type": "markdown",
   "metadata": {},
   "source": [
    "<b>Ahoj!</b> V tomto souboru najdete zdrojovy kod s komentari, ktery jsme pouzivali na nasi prvni lekci. Formatem je tzv. jupyter notebook (koncovka .ipynb) - jednotlive kousky kodu v chliveccich (\"code chunks\") jsou spustitelne samostnatne a soucasne lze k nim pridat chlivecky s popisky v markdownu, ktere nejsou cteny jako kod. Pro jednoduchost staci si kod zkopirovat k sobe. Z"
   ]
  },
  {
   "cell_type": "code",
   "execution_count": 1,
   "metadata": {},
   "outputs": [
    {
     "name": "stdout",
     "output_type": "stream",
     "text": [
      "Hello world\n"
     ]
    }
   ],
   "source": [
    "# UVOD - obligatni HELLO, WORLD: volani funkce print(), ktera vezme argument (v nasem pripade doslova string \"Hello, world\") a vypise ho do terminalu\n",
    "print(\"Hello world\")"
   ]
  },
  {
   "cell_type": "code",
   "execution_count": 2,
   "metadata": {},
   "outputs": [
    {
     "name": "stdout",
     "output_type": "stream",
     "text": [
      "5\n"
     ]
    }
   ],
   "source": [
    "\"\"\" PROMENNE A DATOVE TYPY - NASE ODDELENI: \"\"\"\n",
    "# string (str)\n",
    "jmeno_oddeleni = \"JIP_A\"\n",
    "pocet_lekaru = \"2\"\n",
    "\n",
    "# integer (int)\n",
    "pocet_pacientu = 4\n",
    "\n",
    "# float - bacha na desetinnou tečku\n",
    "pocet_uvazku = 2.6\n",
    "\n",
    "# boolean (bool)\n",
    "sviti_slunce = True\n",
    "sucha_voda = False\n",
    "\n",
    "\n",
    "# list - muze sam obsahovat ruzne datove typy\n",
    "seznam_pacientu = [\"Anna\", \"Karel\", \"Vratislav\", \"Jakub\", \"Jarmila\"]\n",
    "\n",
    "# prirazujeme do promenne pocet_pacientu delku listu seznam_pacientu -> promenna pocet_pacientu se zmeni na hodnotu funkce len pro seznam_pacientu\n",
    "pocet_pacientu = len(seznam_pacientu)\n",
    "\n",
    "print(pocet_pacientu)"
   ]
  },
  {
   "cell_type": "code",
   "execution_count": 3,
   "metadata": {},
   "outputs": [
    {
     "name": "stdout",
     "output_type": "stream",
     "text": [
      "2.4\n"
     ]
    }
   ],
   "source": [
    "\"\"\" koncept FUNKCE \"\"\"\n",
    "# do promenne puvodni_cislo vkladame hodnotu 2.3671\n",
    "puvodni_cislo = 2.3671\n",
    "\n",
    "# volame funkci round a vkladame do ni promennou a specifikujeme parametr ndigits\n",
    "zaoukrouhlene_cislo = round(puvodni_cislo, ndigits=1) \n",
    "\n",
    "# volame print, abychom videli zaokrouhlenou hodnotu\n",
    "print(zaoukrouhlene_cislo)"
   ]
  },
  {
   "cell_type": "code",
   "execution_count": 4,
   "metadata": {},
   "outputs": [
    {
     "name": "stdout",
     "output_type": "stream",
     "text": [
      "zuzana@gmail.com\n"
     ]
    }
   ],
   "source": [
    "\"\"\" OSEKANI MEZER - PRIKLAD METODY NA PRACI SE STRINGEM \"\"\"\n",
    "# volani input funkce, ktera vrati mail zadany do terminalu a nasledne zbaveni prebytecnych mezer na obou stranach\n",
    "# pomoci metody .strip()\n",
    "email = input(\"Jakej máš mail? \").strip()\n",
    "\n",
    "print(email)"
   ]
  },
  {
   "cell_type": "code",
   "execution_count": 5,
   "metadata": {},
   "outputs": [
    {
     "name": "stdout",
     "output_type": "stream",
     "text": [
      "Součet 6.96 a 89.999 je 96.96\n"
     ]
    }
   ],
   "source": [
    "\"\"\" GLORIFIKOVANA KALKULACKA - kombinace znalosti o funkcich, datovych typech a formatovanych strings\"\"\"\n",
    "\n",
    "# volame funkci input, ktera v terminalu vypise dotaz a vrati string - protoze ale chceme scitat cisla, nikoliv stringy,\n",
    "# musime zavolat konstruktor int(), do ktereho vraceny string zabalime a ten jej prevede na cele cislo. \n",
    "x = float(input(\"Kolik je x? \"))\n",
    "y = float(input(\"Kolik je y? \"))\n",
    "\n",
    "# prirazeni vysledku do promenne a zaokrouhleni na 2 desetinna mista funkci round\n",
    "soucet = round(x + y, ndigits=2)\n",
    "\n",
    "# zobrazeni vysledku pomoci volani printu, ktery obsahuje tzv. FORMATOVANY string - s pismenem f pred uvozovkami - nasledne\n",
    "# lze pomoci vlnitych zavorek zobrazit hodnotu vysledne promenne\n",
    "print(f\"Součet {x} a {y} je {soucet}\")"
   ]
  }
 ],
 "metadata": {
  "kernelspec": {
   "display_name": "Python 3",
   "language": "python",
   "name": "python3"
  },
  "language_info": {
   "codemirror_mode": {
    "name": "ipython",
    "version": 3
   },
   "file_extension": ".py",
   "mimetype": "text/x-python",
   "name": "python",
   "nbconvert_exporter": "python",
   "pygments_lexer": "ipython3",
   "version": "3.10.9"
  },
  "orig_nbformat": 4
 },
 "nbformat": 4,
 "nbformat_minor": 2
}
