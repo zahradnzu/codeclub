{
 "cells": [
  {
   "attachments": {},
   "cell_type": "markdown",
   "metadata": {},
   "source": [
    "<b>ZADANI:</b> Napiste program, ktery se zepta na jmeno lekare, tento vstup osetri (oseka zbytecne mezery, zajisti, aby prvni pismena jmena i prijmeni byla velka a pred jmeno priradi titul MUDr.) a priradi ho do promenne. Nasledne se zepta na pocet odpracovanych hodin tento mesic a vypocita, kolik % to je z bezneho pracovniho mesice (160 hodin). Vystupem bude veta ve formatu \"Lekar\\*ka \\*MUDr. Jmeno Prijmeni\\* tento tyden odpracoval \\*procento\\* bezneho pracovniho tydne.\" Priklady:\n",
    "- input: \"anNA nOVA\", \"195.5\" → output: \"Lekar\\*ka MUDr. Anna Nova odpracoval\\*a 122.19 % hodin bezneho pracovniho uvazku.\"\n",
    "- input: \"  Lukas volny\", \"99 \" → output: \"Lekar\\*ka MUDr. Lukas Novy odpracoval\\*a 61.88 % hodin bezneho pracovniho uvazku.\""
   ]
  },
  {
   "cell_type": "code",
   "execution_count": null,
   "metadata": {},
   "outputs": [],
   "source": [
    "\"\"\" SOLUTION \"\"\"\n",
    "# HINTS: dulezite je spravne osetrit vstupy a zajistit, aby program spravne pracoval s datovymi typy."
   ]
  }
 ],
 "metadata": {
  "language_info": {
   "name": "python"
  },
  "orig_nbformat": 4
 },
 "nbformat": 4,
 "nbformat_minor": 2
}
