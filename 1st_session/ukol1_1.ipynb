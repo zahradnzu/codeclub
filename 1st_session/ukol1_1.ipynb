{
 "cells": [
  {
   "attachments": {},
   "cell_type": "markdown",
   "metadata": {},
   "source": [
    "<b>ZADANI:</b> Napiste program, ktery se po spusteni zepta na jmeno oddeleni a vygeneruje jeho snake_case verzi (s malymi pismeny a s podtrzitky misto mezer - pozor, mezery pred a za prvnim pismenem musi byt osekany, tj. zustanou pouze mezery mezi slovy). Priklad:\n",
    "- input: \"    InTERNA jip A  \" → output: \"interna_jip_a\"\n",
    "- input: \"CHIRURGIE b\" → output: \"chirurgie_b\"\n",
    "- input: \"   mOTOlskA  jIdELNA AAAA \" → output: \"motolska__jidelna_aaaa\""
   ]
  }
 ],
 "metadata": {
  "kernelspec": {
   "display_name": "Python 3",
   "language": "python",
   "name": "python3"
  },
  "language_info": {
   "codemirror_mode": {
    "name": "ipython",
    "version": 3
   },
   "file_extension": ".py",
   "mimetype": "text/x-python",
   "name": "python",
   "nbconvert_exporter": "python",
   "pygments_lexer": "ipython3",
   "version": "3.10.9"
  },
  "orig_nbformat": 4
 },
 "nbformat": 4,
 "nbformat_minor": 2
}
