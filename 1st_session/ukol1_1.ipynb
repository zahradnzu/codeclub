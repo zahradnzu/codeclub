{
 "cells": [
  {
   "attachments": {},
   "cell_type": "markdown",
   "metadata": {},
   "source": [
    "<b>ZADANI:</b> Napiste program, ktery se po spusteni zepta na jmeno oddeleni a vygeneruje jeho snake_case verzi (s malymi pismeny a s podtrzitky misto mezer - pozor, mezery pred a za prvnim pismenem musi byt osekany, tj. zustanou pouze mezery mezi slovy). Priklad:\n",
    "- input: \"    InTERNA jip A  \" → output: \"interna_jip_a\"\n",
    "- input: \"CHIRURGIE b\" → output: \"chirurgie_b\"\n",
    "- input: \"   mOTOlskA  jIdELNA AAAA \" → output: \"motolska__jidelna_aaaa\""
   ]
  },
  {
   "attachments": {},
   "cell_type": "markdown",
   "metadata": {},
   "source": [
    "<b>RESENI UKOLU:</b> Jednalo se o ulohu testujici syntax a hiearchii volani funkci a metod pro stringy + praci s promennymi. Reseni je samozrejme vice a cely program se da napsat i na jeden radek. Pozor - zalezi, v jakem poradi volame metody. Jak funkce, tak metody se \"volaji\" od nejvnitrnejsi po nejvic vnejsi, tj. v pripade, ze by byl nejdriv umisteny .replace() a az pak .strip(), nebude mit strip co zrat, protoze vsechny mezery byly premeneny na podtrzitka."
   ]
  },
  {
   "cell_type": "code",
   "execution_count": null,
   "metadata": {},
   "outputs": [],
   "source": [
    "\"\"\" tzv. 'one-liner' - reseni na jeden radek \"\"\"\n",
    "\n",
    "print(input(\"Jméno oddělení? \").strip().lower().replace(\" \", \"_\"))"
   ]
  },
  {
   "cell_type": "code",
   "execution_count": null,
   "metadata": {},
   "outputs": [],
   "source": [
    "\"\"\" vice radku s tvorbou promenne, trosku citelnejsi - prirazeni do promenne umoznuje naslednou praci se jmenem oddeleni dale v nasem kodu \"\"\"\n",
    "\n",
    "oddeleni = input(\"Jméno oddělení? \").strip().lower().replace(\" \", \"_\")\n",
    "print(oddeleni)"
   ]
  }
 ],
 "metadata": {
  "kernelspec": {
   "display_name": "Python 3",
   "language": "python",
   "name": "python3"
  },
  "language_info": {
   "codemirror_mode": {
    "name": "ipython",
    "version": 3
   },
   "file_extension": ".py",
   "mimetype": "text/x-python",
   "name": "python",
   "nbconvert_exporter": "python",
   "pygments_lexer": "ipython3",
   "version": "3.10.9"
  },
  "orig_nbformat": 4
 },
 "nbformat": 4,
 "nbformat_minor": 2
}
